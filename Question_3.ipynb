{
  "nbformat": 4,
  "nbformat_minor": 0,
  "metadata": {
    "colab": {
      "provenance": [],
      "authorship_tag": "ABX9TyN8GPc+k6jvyRbiLHoPBMkE",
      "include_colab_link": true
    },
    "kernelspec": {
      "name": "python3",
      "display_name": "Python 3"
    },
    "language_info": {
      "name": "python"
    }
  },
  "cells": [
    {
      "cell_type": "markdown",
      "metadata": {
        "id": "view-in-github",
        "colab_type": "text"
      },
      "source": [
        "<a href=\"https://colab.research.google.com/github/AbdulhameedSk/DataWarehousing-DataMining/blob/main/Question_3.ipynb\" target=\"_parent\"><img src=\"https://colab.research.google.com/assets/colab-badge.svg\" alt=\"Open In Colab\"/></a>"
      ]
    },
    {
      "cell_type": "markdown",
      "source": [
        "\n",
        "\n",
        "> A data warehouse is a central repository that integrates data from various sources within an organization, designed to support decision-making processes.\n",
        "\n",
        "1. **Centralized Repository**: Stores data from multiple sources, eliminating the need for accessing disparate databases.\n",
        "2. **Subject-Oriented**: Organized around specific business domains, facilitating focused\n",
        "analysis.\n",
        "3. **Integrated Data**: Combines data from different sources after standardization for consistency.\n",
        "4. **Time-Variant**: Supports historical data analysis for trend analysis and comparison over time.\n",
        "5. **Non-Volatile**: Preserves historical data without modification, ensuring data integrity.\n",
        "6. **Decision Support**: Provides structured data for analytical queries, reporting, and data mining.\n",
        "7. **Scalability**: Handles large volumes of data with technologies like parallel processing.\n",
        "8. **Security and Access Control**: Implements robust security measures for data privacy\n",
        "and confidentiality."
      ],
      "metadata": {
        "id": "Vobb9zBKpCyc"
      }
    },
    {
      "cell_type": "code",
      "execution_count": 1,
      "metadata": {
        "colab": {
          "base_uri": "https://localhost:8080/"
        },
        "id": "UJBKqfm5ol6p",
        "outputId": "2410ef06-108a-4319-a851-d09c3770c33a"
      },
      "outputs": [
        {
          "output_type": "stream",
          "name": "stdout",
          "text": [
            "Pearson Correlation Coefficient: 0.9999999999999998\n"
          ]
        }
      ],
      "source": [
        "import numpy as np\n",
        "\n",
        "def pearson_correlation(x, y):\n",
        "    # Calculate mean of x and y\n",
        "    mean_x = np.mean(x)\n",
        "    mean_y = np.mean(y)\n",
        "\n",
        "    # Calculate Pearson correlation coefficient\n",
        "    numerator = np.sum((x - mean_x) * (y - mean_y))\n",
        "    denominator = np.sqrt(np.sum((x - mean_x)**2)) * np.sqrt(np.sum((y - mean_y)**2))\n",
        "\n",
        "    return numerator / denominator\n",
        "\n",
        "# Example usage\n",
        "x = np.array([1, 2, 3, 4, 5])\n",
        "y = np.array([2, 3, 4, 5, 6])\n",
        "\n",
        "print(\"Pearson Correlation Coefficient:\", pearson_correlation(x, y))\n"
      ]
    },
    {
      "cell_type": "code",
      "source": [
        "from scipy.spatial.distance import cosine\n",
        "\n",
        "def cosine_similarity(x, y):\n",
        "    return 1 - cosine(x, y)\n",
        "\n",
        "# Example usage\n",
        "x = np.array([1, 2, 3, 4, 5])\n",
        "y = np.array([2, 3, 4, 5, 6])\n",
        "\n",
        "print(\"Cosine Similarity:\", cosine_similarity(x, y))\n"
      ],
      "metadata": {
        "colab": {
          "base_uri": "https://localhost:8080/"
        },
        "id": "mLjbifYlqJ5M",
        "outputId": "464ce786-1050-4069-ebf4-76d4583ac294"
      },
      "execution_count": 4,
      "outputs": [
        {
          "output_type": "stream",
          "name": "stdout",
          "text": [
            "Cosine Similarity: 0.9949366763261821\n"
          ]
        }
      ]
    },
    {
      "cell_type": "code",
      "source": [
        "\n",
        "def jaccard_similarity(x, y):\n",
        "    intersection = len(set(x).intersection(y))\n",
        "    union = len(set(x).union(y))\n",
        "\n",
        "    return intersection / union\n",
        "\n",
        "# Example usage\n",
        "x = set([1, 2, 3, 4, 5])\n",
        "y = set([2, 3, 4, 5, 6])\n",
        "\n",
        "print(\"Jaccard Similarity:\", jaccard_similarity(x, y))\n"
      ],
      "metadata": {
        "colab": {
          "base_uri": "https://localhost:8080/"
        },
        "id": "IVZLLdstqpy4",
        "outputId": "694dbc71-1101-470b-a40b-8e90c042c614"
      },
      "execution_count": 5,
      "outputs": [
        {
          "output_type": "stream",
          "name": "stdout",
          "text": [
            "Jaccard Similarity: 0.6666666666666666\n"
          ]
        }
      ]
    },
    {
      "cell_type": "code",
      "source": [
        "from scipy.spatial.distance import euclidean\n",
        "\n",
        "def euclidean_distance(x, y):\n",
        "    return euclidean(x, y)\n",
        "\n",
        "# Example usage\n",
        "x = np.array([1, 2, 3])\n",
        "y = np.array([4, 5, 6])\n",
        "\n",
        "print(\"Euclidean Distance:\", euclidean_distance(x, y))\n"
      ],
      "metadata": {
        "colab": {
          "base_uri": "https://localhost:8080/"
        },
        "id": "8UalRhU-q9SQ",
        "outputId": "03c29900-142c-405f-974e-7d534c4995cf"
      },
      "execution_count": 6,
      "outputs": [
        {
          "output_type": "stream",
          "name": "stdout",
          "text": [
            "Euclidean Distance: 5.196152422706632\n"
          ]
        }
      ]
    },
    {
      "cell_type": "code",
      "source": [
        "from scipy.spatial.distance import cityblock\n",
        "\n",
        "def manhattan_distance(x, y):\n",
        "    return cityblock(x, y)\n",
        "\n",
        "# Example usage\n",
        "x = np.array([1, 2, 3])\n",
        "y = np.array([4, 5, 6])\n",
        "\n",
        "print(\"Manhattan Distance:\", manhattan_distance(x, y))\n"
      ],
      "metadata": {
        "colab": {
          "base_uri": "https://localhost:8080/"
        },
        "id": "gXd2StZvrBMi",
        "outputId": "ad9baa9f-0ce3-4935-c658-6d9a215e48c6"
      },
      "execution_count": 7,
      "outputs": [
        {
          "output_type": "stream",
          "name": "stdout",
          "text": [
            "Manhattan Distance: 9\n"
          ]
        }
      ]
    },
    {
      "cell_type": "code",
      "source": [],
      "metadata": {
        "id": "3hh8fNOFrD4R"
      },
      "execution_count": null,
      "outputs": []
    }
  ]
}