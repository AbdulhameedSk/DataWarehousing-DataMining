{
  "nbformat": 4,
  "nbformat_minor": 0,
  "metadata": {
    "colab": {
      "provenance": [],
      "authorship_tag": "ABX9TyO5WdqRKC9ZI9rVSQcckm+D",
      "include_colab_link": true
    },
    "kernelspec": {
      "name": "python3",
      "display_name": "Python 3"
    },
    "language_info": {
      "name": "python"
    }
  },
  "cells": [
    {
      "cell_type": "markdown",
      "metadata": {
        "id": "view-in-github",
        "colab_type": "text"
      },
      "source": [
        "<a href=\"https://colab.research.google.com/github/AbdulhameedSk/DataWarehousing-DataMining/blob/main/Question_3.ipynb\" target=\"_parent\"><img src=\"https://colab.research.google.com/assets/colab-badge.svg\" alt=\"Open In Colab\"/></a>"
      ]
    },
    {
      "cell_type": "markdown",
      "source": [
        "\n",
        "\n",
        "> A data warehouse is a central repository that integrates data from various sources within an organization, designed to support decision-making processes.\n",
        "\n",
        "1. **Centralized Repository**: Stores data from multiple sources, eliminating the need for accessing disparate databases.\n",
        "2. **Subject-Oriented**: Organized around specific business domains, facilitating focused\n",
        "analysis.\n",
        "3. **Integrated Data**: Combines data from different sources after standardization for consistency.\n",
        "4. **Time-Variant**: Supports historical data analysis for trend analysis and comparison over time.\n",
        "5. **Non-Volatile**: Preserves historical data without modification, ensuring data integrity.\n",
        "6. **Decision Support**: Provides structured data for analytical queries, reporting, and data mining.\n",
        "7. **Scalability**: Handles large volumes of data with technologies like parallel processing.\n",
        "8. **Security and Access Control**: Implements robust security measures for data privacy\n",
        "and confidentiality."
      ],
      "metadata": {
        "id": "Vobb9zBKpCyc"
      }
    },
    {
      "cell_type": "code",
      "execution_count": 22,
      "metadata": {
        "colab": {
          "base_uri": "https://localhost:8080/"
        },
        "id": "UJBKqfm5ol6p",
        "outputId": "4dd4b962-bfd4-4691-c978-401b98c09ba3"
      },
      "outputs": [
        {
          "output_type": "stream",
          "name": "stdout",
          "text": [
            "Pearson Correlation Coefficient: 0.9999999999999998\n"
          ]
        }
      ],
      "source": [
        "import numpy as np\n",
        "def pearson_correlation(x, y):\n",
        "    # Calculate mean of x and y\n",
        "    mean_x = np.mean(x)\n",
        "    mean_y = np.mean(y)\n",
        "\n",
        "    # Calculate Pearson correlation coefficient\n",
        "    numerator = np.sum((x - mean_x) * (y - mean_y))\n",
        "    denominator = np.sqrt(np.sum((x - mean_x)**2)) * np.sqrt(np.sum((y - mean_y)**2))\n",
        "\n",
        "    return numerator / denominator\n",
        "\n",
        "# Example usage\n",
        "x = np.array([1, 2, 3, 4, 5])\n",
        "y = np.array([2, 3, 4, 5, 6])\n",
        "\n",
        "print(\"Pearson Correlation Coefficient:\", pearson_correlation(x, y))\n"
      ]
    },
    {
      "cell_type": "code",
      "source": [
        "from sklearn.metrics.pairwise import cosine_similarity,euclidean_distances,manhattan_distances\n",
        "# Example usage\n",
        "x = np.array([1, 2, 3, 4, 5])\n",
        "y = np.array([2, 3, 4, 5, 6])\n",
        "\n",
        "print(\"Cosine Similarity:\", cosine_similarity([x], [y])[0][0])"
      ],
      "metadata": {
        "colab": {
          "base_uri": "https://localhost:8080/"
        },
        "id": "mLjbifYlqJ5M",
        "outputId": "cf3e3ba6-fbb3-4032-baee-b25a3dd2cf6b"
      },
      "execution_count": 29,
      "outputs": [
        {
          "output_type": "stream",
          "name": "stdout",
          "text": [
            "Cosine Similarity: 0.994936676326182\n"
          ]
        }
      ]
    },
    {
      "cell_type": "code",
      "source": [
        "def jaccard_similarity(x, y):\n",
        "    intersection = len(set(x).intersection(y))\n",
        "    union = len(set(x).union(y))\n",
        "\n",
        "    return intersection / union\n",
        "\n",
        "# Example usage\n",
        "x = set([1, 2, 3, 4, 5])\n",
        "y = set([2, 3, 4, 5, 6])\n",
        "\n",
        "print(\"Jaccard Similarity:\", jaccard_similarity(x, y))\n"
      ],
      "metadata": {
        "colab": {
          "base_uri": "https://localhost:8080/"
        },
        "id": "IVZLLdstqpy4",
        "outputId": "2d4e5acf-6440-4b45-accd-93e69f616176"
      },
      "execution_count": 30,
      "outputs": [
        {
          "output_type": "stream",
          "name": "stdout",
          "text": [
            "Jaccard Similarity: 0.6666666666666666\n"
          ]
        }
      ]
    },
    {
      "cell_type": "code",
      "source": [
        "import numpy as np\n",
        "from sklearn.metrics.pairwise import euclidean_distances\n",
        "\n",
        "x = np.array([1, 2, 3])\n",
        "y = np.array([4, 5, 6])\n",
        "\n",
        "distance = euclidean_distances([x], [y])[0][0]\n",
        "print(\"Euclidean Distance:\", distance)\n"
      ],
      "metadata": {
        "colab": {
          "base_uri": "https://localhost:8080/"
        },
        "id": "8UalRhU-q9SQ",
        "outputId": "95c1ab82-42c1-4256-d30d-a57e36864754"
      },
      "execution_count": 31,
      "outputs": [
        {
          "output_type": "stream",
          "name": "stdout",
          "text": [
            "Euclidean Distance: 5.196152422706632\n"
          ]
        }
      ]
    },
    {
      "cell_type": "code",
      "source": [
        "\n",
        "\n",
        "x = np.array([1, 2, 3])\n",
        "y = np.array([4, 5, 6])\n",
        "\n",
        "\n",
        "manhattan_dist = manhattan_distances([x], [y])[0][0]\n",
        "print(\"Manhattan Distance:\", manhattan_dist)\n"
      ],
      "metadata": {
        "colab": {
          "base_uri": "https://localhost:8080/"
        },
        "id": "gXd2StZvrBMi",
        "outputId": "7969b566-67f2-4a60-f775-5096d65213b0"
      },
      "execution_count": 34,
      "outputs": [
        {
          "output_type": "stream",
          "name": "stdout",
          "text": [
            "Manhattan Distance: 9.0\n"
          ]
        }
      ]
    },
    {
      "cell_type": "code",
      "source": [],
      "metadata": {
        "id": "twKcLjVEky-e"
      },
      "execution_count": null,
      "outputs": []
    }
  ]
}