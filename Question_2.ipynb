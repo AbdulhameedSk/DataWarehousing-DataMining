{
  "nbformat": 4,
  "nbformat_minor": 0,
  "metadata": {
    "colab": {
      "provenance": [],
      "authorship_tag": "ABX9TyMHMeWNUcQGJ6s3F0XvYL+L",
      "include_colab_link": true
    },
    "kernelspec": {
      "name": "python3",
      "display_name": "Python 3"
    },
    "language_info": {
      "name": "python"
    }
  },
  "cells": [
    {
      "cell_type": "markdown",
      "metadata": {
        "id": "view-in-github",
        "colab_type": "text"
      },
      "source": [
        "<a href=\"https://colab.research.google.com/github/AbdulhameedSk/DataWarehousing-DataMining/blob/main/Question_2.ipynb\" target=\"_parent\"><img src=\"https://colab.research.google.com/assets/colab-badge.svg\" alt=\"Open In Colab\"/></a>"
      ]
    },
    {
      "cell_type": "markdown",
      "source": [
        "#Steps in Data mining\n",
        "\n",
        "\n",
        "1.   Problem Definition\n",
        "2.   Data Collection\n",
        "3. Data preparation\n",
        "4. Data Analysis (EDA)\n",
        "5. Feature selection\n",
        "6. Model Selection\n",
        "7.Model Training\n",
        "8. Deployement\n",
        "9.Maintaining\n",
        "\n",
        "\n"
      ],
      "metadata": {
        "id": "RIeG_6fWhBhh"
      }
    },
    {
      "cell_type": "code",
      "source": [
        "# Dealing with categorical data\n",
        "# Scaling the features\n",
        "# Splitting dataset into Training and Testing Sets"
      ],
      "metadata": {
        "id": "-u_Yz9eUi4b3"
      },
      "execution_count": 2,
      "outputs": []
    },
    {
      "cell_type": "code",
      "source": [
        "import pandas as pd\n",
        "import numpy as np\n"
      ],
      "metadata": {
        "id": "XqKESDUOj1LG"
      },
      "execution_count": 4,
      "outputs": []
    },
    {
      "cell_type": "code",
      "source": [
        "from sklearn.datasets import load_breast_cancer\n"
      ],
      "metadata": {
        "id": "5qA48vQ7j3CX"
      },
      "execution_count": 7,
      "outputs": []
    },
    {
      "cell_type": "code",
      "source": [
        "breast_cancer = load_breast_cancer()"
      ],
      "metadata": {
        "id": "veM5EClJkFsx"
      },
      "execution_count": 8,
      "outputs": []
    },
    {
      "cell_type": "code",
      "source": [
        "data = pd.DataFrame(breast_cancer.data, columns= breast_cancer.feature_names)"
      ],
      "metadata": {
        "id": "8f79ylXcj-zs"
      },
      "execution_count": 9,
      "outputs": []
    },
    {
      "cell_type": "code",
      "source": [
        "data['target'] = breast_cancer.target"
      ],
      "metadata": {
        "id": "pwOIKpyMkKyZ"
      },
      "execution_count": 10,
      "outputs": []
    },
    {
      "cell_type": "code",
      "source": [
        "data['radius_category']=pd.cut(data['mean radius'],bins=[0,10,20,30,np.inf],labels=['0-10','10-20','20-30','>30'])"
      ],
      "metadata": {
        "id": "1I4fFvkzkM_4"
      },
      "execution_count": 12,
      "outputs": []
    },
    {
      "cell_type": "code",
      "source": [],
      "metadata": {
        "id": "UYO3tBtFkO0S"
      },
      "execution_count": null,
      "outputs": []
    }
  ]
}