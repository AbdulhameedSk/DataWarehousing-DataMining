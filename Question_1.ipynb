{
  "nbformat": 4,
  "nbformat_minor": 0,
  "metadata": {
    "colab": {
      "provenance": [],
      "authorship_tag": "ABX9TyNFeaDjmz5n+8jy9i7X0t6o",
      "include_colab_link": true
    },
    "kernelspec": {
      "name": "python3",
      "display_name": "Python 3"
    },
    "language_info": {
      "name": "python"
    }
  },
  "cells": [
    {
      "cell_type": "markdown",
      "metadata": {
        "id": "view-in-github",
        "colab_type": "text"
      },
      "source": [
        "<a href=\"https://colab.research.google.com/github/AbdulhameedSk/DataWarehousing-DataMining/blob/main/Question_1.ipynb\" target=\"_parent\"><img src=\"https://colab.research.google.com/assets/colab-badge.svg\" alt=\"Open In Colab\"/></a>"
      ]
    },
    {
      "cell_type": "markdown",
      "source": [
        "#Data Mining Tasks\n",
        "\n",
        "Data mining tasks involve various operation to uncover patterns and insights in data\n",
        "\n",
        "\n",
        "\n",
        "*   Classification : sorting data into categories\n",
        "*   Clustering : Grouping similar data points\n",
        "* Regression : Prediction of numerical values based on input values\n",
        "*Association rule mining : Discovering relationships in Variables\n",
        "*Anamoly Detection : Finding unusual data points\n",
        "*Dimentionality reduction : simplifying complex datasets\n",
        "\n",
        "#Data Processing Techniques\n",
        "\n",
        "* Data cleaning :Handling missing and error values\n",
        "*Data reduciton : reducing dimentionality\n",
        "*Data integration : combining data from different sources\n",
        "*Data Transformation : Transforming Data into suitable formats\n",
        "\n",
        "\n"
      ],
      "metadata": {
        "id": "4Z8W6-UoURBe"
      }
    },
    {
      "cell_type": "code",
      "execution_count": null,
      "metadata": {
        "id": "FtPWnasNTM5p"
      },
      "outputs": [],
      "source": [
        "# Loading the dataset\n",
        "import pandas as pd"
      ]
    },
    {
      "cell_type": "code",
      "source": [
        "df=pd.read_csv('/content/drive/MyDrive/Colab Notebooks/DATASETS/50_Startups.csv')\n"
      ],
      "metadata": {
        "id": "DDp1RO2yaNVs"
      },
      "execution_count": null,
      "outputs": []
    },
    {
      "cell_type": "code",
      "source": [
        "df.isnull().sum()"
      ],
      "metadata": {
        "colab": {
          "base_uri": "https://localhost:8080/"
        },
        "id": "hPmjFIdSbjSP",
        "outputId": "a96ecaae-1504-43ac-aea3-5c2a6039c2dd"
      },
      "execution_count": null,
      "outputs": [
        {
          "output_type": "execute_result",
          "data": {
            "text/plain": [
              "R&D Spend          0\n",
              "Administration     0\n",
              "Marketing Spend    0\n",
              "State              0\n",
              "Profit             0\n",
              "dtype: int64"
            ]
          },
          "metadata": {},
          "execution_count": 20
        }
      ]
    },
    {
      "cell_type": "code",
      "source": [],
      "metadata": {
        "id": "ip2J2jHEcpBy"
      },
      "execution_count": null,
      "outputs": []
    }
  ]
}